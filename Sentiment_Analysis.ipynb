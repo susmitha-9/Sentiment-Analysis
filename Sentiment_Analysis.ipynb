{
  "nbformat": 4,
  "nbformat_minor": 0,
  "metadata": {
    "colab": {
      "provenance": []
    },
    "kernelspec": {
      "name": "python3",
      "display_name": "Python 3"
    },
    "language_info": {
      "name": "python"
    }
  },
  "cells": [
    {
      "cell_type": "code",
      "source": [
        "import tweepy\n",
        "import csv\n",
        "import datetime\n",
        "\n",
        "# Authenticate with Twitter API\n",
        "consumer_key = \"FxJSGJLW7w1aekEoETRwZQk6M\"\n",
        "consumer_secret = \"oE1XaK1tNMiEIHYDyfZcISFGIezC0Y5CIEEm8hgM2nKy2N4ZqF\"\n",
        "access_token = \"1652733378188247041-odJAXEEAinV4l819Y13ok57sHQq68T\"\n",
        "access_token_secret = \"1SIROwMaNNYNb5VK7J66ORnk0S68s1lVxkivqA4BMfpdW\"\n",
        "auth = tweepy.OAuthHandler(consumer_key, consumer_secret)\n",
        "auth.set_access_token(access_token, access_token_secret)\n",
        "api = tweepy.API(auth, wait_on_rate_limit=True)\n",
        "\n",
        "# Set search query parameters\n",
        "query = \"#UBuffalo OR #UBhornsUP OR #BuffaloNY OR #UBGSE OR #UBTrueBlue OR #ForeverABull OR #UB OR #ubalumni OR #SUNYAlumni OR #ubalumniassociation OR #UBAlert OR #BuffaLove OR #UBMgt OR #UBSPHHP OR #UBClassOf2023 OR #UBClassof2019 OR #UBSEAS OR #UBGivingDay OR #BuffaloStrong OR #SUNY OR #ubbulls OR #BuffaloBills OR #buffalo OR #HornsUp OR #SUNYBuffalo OR #BuffaloState OR #sunylove\" + (datetime.datetime.now() - datetime.timedelta(days=7)).strftime('%Y-%m-%d')\n",
        "unique_ids = set()\n",
        "\n",
        "# Collect tweets and write to CSV file\n",
        "with open('UBTweets.csv', mode='w', encoding='utf-8', newline='') as file:\n",
        "  writer = csv.writer(file)\n",
        "  writer.writerow(['user', 'date', 'time', 'text'])\n",
        "\n",
        "  # Iterate through pages of search results to retrieve upto 1500 unique tweets\n",
        "  for page in tweepy.Cursor(api.search_tweets, q=query, tweet_mode='extended', count=100).pages(80):\n",
        "      for tweet in page:\n",
        "          if not tweet.retweeted and 'RT @' not in tweet.full_text and tweet.id not in unique_ids:\n",
        "              unique_ids.add(tweet.id)        \n",
        "\n",
        "              # Collect user, date, time, and text from unique tweet\n",
        "              user = tweet.user.screen_name\n",
        "              date = tweet.created_at.strftime('%Y-%m-%d')\n",
        "              time = tweet.created_at.strftime('%H:%M:%S')\n",
        "              text = tweet.full_text       \n",
        "                  \n",
        "              # Write tweet data to CSV file\n",
        "              writer.writerow([user, date, time, text])\n"
      ],
      "metadata": {
        "id": "8ie9o4LSeCi9"
      },
      "execution_count": null,
      "outputs": []
    },
    {
      "cell_type": "code",
      "source": [
        "import pandas as pd\n",
        "\n",
        "# Set file path\n",
        "file_path = '/content/Ubuffalo - UBTweets.csv'\n",
        "# Read CSV file into a Pandas DataFrame\n",
        "df = pd.read_csv(file_path)\n",
        "# Display DataFrame\n",
        "print(df)"
      ],
      "metadata": {
        "colab": {
          "base_uri": "https://localhost:8080/"
        },
        "id": "wfFKHDluMhE7",
        "outputId": "e84db053-a1ee-4d77-b18d-54b1b15a4ac5"
      },
      "execution_count": 36,
      "outputs": [
        {
          "output_type": "stream",
          "name": "stdout",
          "text": [
            "                 user        date      time  \\\n",
            "0        hittingnooks  2023-05-04  22:28:18   \n",
            "1        BillsNewsNow  2023-05-04  22:28:00   \n",
            "2        BillsNewsNow  2023-05-04  22:21:01   \n",
            "3      DreherBaseball  2023-05-04  22:20:17   \n",
            "4        LipscombXCTF  2023-05-04  22:18:42   \n",
            "...               ...         ...       ...   \n",
            "3357        TedBrady5  2023-04-27  14:25:26   \n",
            "3358     FDU_Baseball  2023-04-27  14:22:02   \n",
            "3359     bestfaredeal  2023-04-27  14:19:07   \n",
            "3360  LydiaSchaefer12  2023-04-27  14:17:50   \n",
            "3361   Black_Carter21  2023-04-27  14:16:24   \n",
            "\n",
            "                                                   text  \n",
            "0     The best! #Vegas #Buffalo https://t.co/MC6RNaNVln  \n",
            "1     Bills get final OK from Erie County to build n...  \n",
            "2     Brandon Beane glad Josh Allen plans to be “a l...  \n",
            "3     Blue Devils have arrived @ Mike Johnson Park! ...  \n",
            "4     With no meets happening this weekend, our team...  \n",
            "...                                                 ...  \n",
            "3357                                                NaN  \n",
            "3358                                                NaN  \n",
            "3359                                                NaN  \n",
            "3360                                                NaN  \n",
            "3361                                                NaN  \n",
            "\n",
            "[3362 rows x 4 columns]\n"
          ]
        }
      ]
    },
    {
      "cell_type": "code",
      "source": [
        "# converting the data in the dataset to a valid text format\n",
        "df['text'] = df['text'].astype(str)\n",
        "print(df['text'])"
      ],
      "metadata": {
        "colab": {
          "base_uri": "https://localhost:8080/"
        },
        "id": "tW_yXOzwZsyJ",
        "outputId": "f6586909-76f2-4bd2-a6c0-297f84e1cea1"
      },
      "execution_count": 37,
      "outputs": [
        {
          "output_type": "stream",
          "name": "stdout",
          "text": [
            "0       The best! #Vegas #Buffalo https://t.co/MC6RNaNVln\n",
            "1       Bills get final OK from Erie County to build n...\n",
            "2       Brandon Beane glad Josh Allen plans to be “a l...\n",
            "3       Blue Devils have arrived @ Mike Johnson Park! ...\n",
            "4       With no meets happening this weekend, our team...\n",
            "                              ...                        \n",
            "3357                                                  nan\n",
            "3358                                                  nan\n",
            "3359                                                  nan\n",
            "3360                                                  nan\n",
            "3361                                                  nan\n",
            "Name: text, Length: 3362, dtype: object\n"
          ]
        }
      ]
    },
    {
      "cell_type": "code",
      "source": [
        "import nltk\n",
        "nltk.download('punkt')\n",
        "nltk.download('stopwords')\n",
        "from nltk.corpus import stopwords\n",
        "import pandas as pd\n",
        "import re\n",
        "from sklearn.feature_extraction.text import CountVectorizer, TfidfVectorizer\n",
        "\n",
        "# Define a lambda function to clean the text\n",
        "clean_text = lambda text: ' '.join([word for word in nltk.word_tokenize(text.lower()) if word.isalpha() and word not in stopwords.words('english')])\n",
        "\n",
        "# Apply the cleaning function to the text column\n",
        "df['clean_text'] = df['text'].apply(clean_text)\n",
        "print(df['clean_text'])\n",
        "\n",
        "# Check for missing values\n",
        "print(\"Number of missing values:\", df['clean_text'].isnull().sum())\n",
        "\n",
        "# Check for non-empty values\n",
        "print(\"Number of non-empty values:\", len(df['clean_text']) - df['clean_text'].isnull().sum())"
      ],
      "metadata": {
        "colab": {
          "base_uri": "https://localhost:8080/"
        },
        "id": "eWlNTJOXZQ8u",
        "outputId": "adef5808-bccb-4793-ce4f-d92187161292"
      },
      "execution_count": 39,
      "outputs": [
        {
          "output_type": "stream",
          "name": "stderr",
          "text": [
            "[nltk_data] Downloading package punkt to /root/nltk_data...\n",
            "[nltk_data]   Package punkt is already up-to-date!\n",
            "[nltk_data] Downloading package stopwords to /root/nltk_data...\n",
            "[nltk_data]   Package stopwords is already up-to-date!\n"
          ]
        },
        {
          "output_type": "stream",
          "name": "stdout",
          "text": [
            "0                                best vegas buffalo https\n",
            "1       bills get final ok erie county build new stadi...\n",
            "2       brandon beane glad josh allen plans little bit...\n",
            "3       blue devils arrived mike johnson park let go h...\n",
            "4       meets happening weekend team focused start asu...\n",
            "                              ...                        \n",
            "3357                                                  nan\n",
            "3358                                                  nan\n",
            "3359                                                  nan\n",
            "3360                                                  nan\n",
            "3361                                                  nan\n",
            "Name: clean_text, Length: 3362, dtype: object\n",
            "Number of missing values: 0\n",
            "Number of non-empty values: 3362\n"
          ]
        }
      ]
    },
    {
      "cell_type": "code",
      "source": [
        "from transformers import pipeline\n",
        "import pandas as pd\n",
        "\n",
        "# Initialize sentiment-analysis pipeline\n",
        "classifier = pipeline('sentiment-analysis')\n",
        "\n",
        "# Retrieve text from DataFrame\n",
        "tweets = df['text'].tolist()\n",
        "\n",
        "# Classify sentiment for each tweet using the pipeline\n",
        "results = classifier(tweets)\n",
        "\n",
        "# Extract sentiment labels from the pipeline output\n",
        "sentiments = [result['label'] for result in results]\n",
        "\n",
        "# Create a new DataFrame with tweet text and corresponding sentiment labels\n",
        "df_labels = pd.DataFrame({'text': df['clean_text'], 'sentiment': sentiments})\n",
        "\n",
        "# Print the head of the new DataFrame\n",
        "print(df_labels.head())"
      ],
      "metadata": {
        "colab": {
          "base_uri": "https://localhost:8080/"
        },
        "id": "w6PyD129Z3MZ",
        "outputId": "ae2e9a5b-3d3b-4c59-a9b4-f236f6c56420"
      },
      "execution_count": 40,
      "outputs": [
        {
          "output_type": "stream",
          "name": "stderr",
          "text": [
            "No model was supplied, defaulted to distilbert-base-uncased-finetuned-sst-2-english and revision af0f99b (https://huggingface.co/distilbert-base-uncased-finetuned-sst-2-english).\n",
            "Using a pipeline without specifying a model name and revision in production is not recommended.\n"
          ]
        },
        {
          "output_type": "stream",
          "name": "stdout",
          "text": [
            "                                                text sentiment\n",
            "0                           best vegas buffalo https  POSITIVE\n",
            "1  bills get final ok erie county build new stadi...  NEGATIVE\n",
            "2  brandon beane glad josh allen plans little bit...  NEGATIVE\n",
            "3  blue devils arrived mike johnson park let go h...  NEGATIVE\n",
            "4  meets happening weekend team focused start asu...  NEGATIVE\n"
          ]
        }
      ]
    },
    {
      "cell_type": "code",
      "source": [
        "# replace sentiment labels with binary values\n",
        "df_labels['sentiment'] = df_labels['sentiment'].apply(lambda x: 1 if x == 'POSITIVE' else 0)\n",
        "\n",
        "# print the shape and head of the dataset\n",
        "print(df_labels.shape)\n",
        "print(df_labels.head())"
      ],
      "metadata": {
        "id": "tUIxrIWYarEm",
        "colab": {
          "base_uri": "https://localhost:8080/"
        },
        "outputId": "b188ab8c-caff-4999-8913-f3641052a1e8"
      },
      "execution_count": 41,
      "outputs": [
        {
          "output_type": "stream",
          "name": "stdout",
          "text": [
            "(3362, 2)\n",
            "                                                text  sentiment\n",
            "0                           best vegas buffalo https          1\n",
            "1  bills get final ok erie county build new stadi...          0\n",
            "2  brandon beane glad josh allen plans little bit...          0\n",
            "3  blue devils arrived mike johnson park let go h...          0\n",
            "4  meets happening weekend team focused start asu...          0\n"
          ]
        }
      ]
    },
    {
      "cell_type": "code",
      "source": [
        "import pandas as pd\n",
        "from sklearn.feature_extraction.text import CountVectorizer, TfidfVectorizer\n",
        "\n",
        "# Define text data\n",
        "text_data = df_labels['text']\n",
        "\n",
        "# Create a bag-of-words matrix\n",
        "vectorizer = CountVectorizer()\n",
        "bow_matrix = vectorizer.fit_transform(text_data)\n",
        "\n",
        "# Create a TF-IDF matrix\n",
        "tfidf_vectorizer = TfidfVectorizer(max_features=5000, max_df=0.8, min_df=5, ngram_range=(1,2))\n",
        "tfidf_matrix = tfidf_vectorizer.fit_transform(text_data)\n",
        "\n",
        "# Print the shape of the matrices\n",
        "print(\"Bag-of-words matrix shape:\", bow_matrix.shape)\n",
        "print(\"TF-IDF matrix shape:\", tfidf_matrix.shape)\n",
        "print(bow_matrix.toarray())"
      ],
      "metadata": {
        "colab": {
          "base_uri": "https://localhost:8080/"
        },
        "id": "T9rP2TeZaDt-",
        "outputId": "0ecdb869-e34d-4c7c-d9d9-e6ceb21cd9a6"
      },
      "execution_count": 42,
      "outputs": [
        {
          "output_type": "stream",
          "name": "stdout",
          "text": [
            "Bag-of-words matrix shape: (3362, 10487)\n",
            "TF-IDF matrix shape: (3362, 2442)\n",
            "[[0 0 0 ... 0 0 0]\n",
            " [0 0 0 ... 0 0 0]\n",
            " [0 0 0 ... 0 0 0]\n",
            " ...\n",
            " [0 0 0 ... 0 0 0]\n",
            " [0 0 0 ... 0 0 0]\n",
            " [0 0 0 ... 0 0 0]]\n"
          ]
        }
      ]
    },
    {
      "cell_type": "code",
      "source": [
        "import numpy as np\n",
        "# Get the vocabulary of the bag-of-words matrix\n",
        "bow_vocab = vectorizer.vocabulary_\n",
        "\n",
        "# Get the vocabulary of the TF-IDF matrix\n",
        "tfidf_vocab = tfidf_vectorizer.vocabulary_\n",
        "\n",
        "# Print the number of unique words in each vocabulary\n",
        "print(\"Number of unique words in bag-of-words vocabulary:\", len(bow_vocab))\n",
        "print(\"Number of unique words in TF-IDF vocabulary:\", len(tfidf_vocab))\n",
        "\n",
        "sparsity = 100 * (1 - np.count_nonzero(tfidf_matrix.toarray()) / np.prod(tfidf_matrix.shape))\n",
        "print(sparsity)"
      ],
      "metadata": {
        "id": "-sJ-qrA9atLR",
        "colab": {
          "base_uri": "https://localhost:8080/"
        },
        "outputId": "72a07762-cc5c-4642-a810-4d3016b3aae1"
      },
      "execution_count": 43,
      "outputs": [
        {
          "output_type": "stream",
          "name": "stdout",
          "text": [
            "Number of unique words in bag-of-words vocabulary: 10487\n",
            "Number of unique words in TF-IDF vocabulary: 2442\n",
            "99.46554228231801\n"
          ]
        }
      ]
    },
    {
      "cell_type": "code",
      "source": [
        "import pandas as pd\n",
        "import numpy as np\n",
        "from sklearn.model_selection import train_test_split\n",
        "from tensorflow.keras.preprocessing.text import Tokenizer\n",
        "from tensorflow.keras.preprocessing.sequence import pad_sequences\n",
        "from tensorflow.keras.models import Sequential\n",
        "from tensorflow.keras.layers import Embedding, LSTM, Conv1D, GlobalMaxPooling1D, GRU, Dense\n",
        "from tensorflow.keras.optimizers import Adam\n",
        "\n",
        "# Split the data into training and test sets\n",
        "X = df_labels['text'].values\n",
        "y = df_labels['sentiment'].values\n",
        "X_train, X_test, y_train, y_test = train_test_split(X, y, test_size=0.2, random_state=42)\n",
        "\n",
        "print(X_train.shape)\n",
        "print(y_train.shape)\n",
        "print(X_test.shape)\n",
        "print(y_test.shape)\n",
        "\n",
        "print(X_train[:5])\n",
        "print(y_train[:5])"
      ],
      "metadata": {
        "colab": {
          "base_uri": "https://localhost:8080/"
        },
        "id": "h6xgP38CavDQ",
        "outputId": "716c39dc-708d-4140-ae39-e13c454b8ff0"
      },
      "execution_count": 44,
      "outputs": [
        {
          "output_type": "stream",
          "name": "stdout",
          "text": [
            "(2689,)\n",
            "(2689,)\n",
            "(673,)\n",
            "(673,)\n",
            "['last week history students ashley morin jenna labbie fiona serrano mia delap brian murphy cari casteel participated iibuff community world trivia competition ubuffalo https'\n",
            " 'grader grace clifton first serve grade night vs east carter lady devils got win rdn hornsup ace https'\n",
            " 'tee times ndsu morning gobison hornsup https'\n",
            " 'nfl draft mock bills could market receiver buffalobills buffalo gobills billsnation yahoo https'\n",
            " 'update buffalobills billboard https']\n",
            "[0 1 0 0 0]\n"
          ]
        }
      ]
    },
    {
      "cell_type": "code",
      "source": [
        "from tensorflow.keras.models import Sequential\n",
        "from tensorflow.keras.layers import Embedding, LSTM, Conv1D, GlobalMaxPooling1D, GRU, Dense\n",
        "from tensorflow.keras.optimizers import Adam\n",
        "\n",
        "# Tokenize text\n",
        "tokenizer = Tokenizer()\n",
        "tokenizer.fit_on_texts(df_labels['text'])\n",
        "sequences = tokenizer.texts_to_sequences(df_labels['text'])\n",
        "\n",
        "# Pad sequences\n",
        "padded_sequences = pad_sequences(sequences)\n",
        "\n",
        "# Define model\n",
        "model = Sequential([\n",
        "    Embedding(input_dim=len(tokenizer.word_index)+1, output_dim=100),\n",
        "    LSTM(64, return_sequences=True),\n",
        "    Conv1D(64, 3, activation='relu'),\n",
        "    GRU(32),\n",
        "    Dense(1, activation='sigmoid')\n",
        "])\n",
        "\n",
        "# Compile model\n",
        "model.compile(loss='binary_crossentropy', optimizer=Adam(), metrics=['accuracy'])\n",
        "\n",
        "# Train model\n",
        "history = model.fit(padded_sequences, df_labels['sentiment'], epochs=10, validation_split=0.2)\n"
      ],
      "metadata": {
        "colab": {
          "base_uri": "https://localhost:8080/"
        },
        "id": "84eYhafde6wp",
        "outputId": "1e99ae42-84fa-455f-aaf9-2b7ba5049a48"
      },
      "execution_count": 47,
      "outputs": [
        {
          "output_type": "stream",
          "name": "stdout",
          "text": [
            "Epoch 1/10\n",
            "85/85 [==============================] - 21s 122ms/step - loss: 0.5492 - accuracy: 0.7189 - val_loss: 0.5328 - val_accuracy: 0.7429\n",
            "Epoch 2/10\n",
            "85/85 [==============================] - 7s 77ms/step - loss: 0.2399 - accuracy: 0.9093 - val_loss: 0.6421 - val_accuracy: 0.7266\n",
            "Epoch 3/10\n",
            "85/85 [==============================] - 8s 98ms/step - loss: 0.1094 - accuracy: 0.9636 - val_loss: 0.7237 - val_accuracy: 0.7251\n",
            "Epoch 4/10\n",
            "85/85 [==============================] - 7s 77ms/step - loss: 0.0570 - accuracy: 0.9807 - val_loss: 0.8025 - val_accuracy: 0.7236\n",
            "Epoch 5/10\n",
            "85/85 [==============================] - 8s 89ms/step - loss: 0.0334 - accuracy: 0.9903 - val_loss: 0.9641 - val_accuracy: 0.7415\n",
            "Epoch 6/10\n",
            "85/85 [==============================] - 7s 77ms/step - loss: 0.0169 - accuracy: 0.9963 - val_loss: 1.0774 - val_accuracy: 0.7400\n",
            "Epoch 7/10\n",
            "85/85 [==============================] - 8s 91ms/step - loss: 0.0237 - accuracy: 0.9926 - val_loss: 1.3047 - val_accuracy: 0.6969\n",
            "Epoch 8/10\n",
            "85/85 [==============================] - 6s 75ms/step - loss: 0.0169 - accuracy: 0.9955 - val_loss: 1.1138 - val_accuracy: 0.7221\n",
            "Epoch 9/10\n",
            "85/85 [==============================] - 8s 88ms/step - loss: 0.0134 - accuracy: 0.9963 - val_loss: 1.1882 - val_accuracy: 0.7296\n",
            "Epoch 10/10\n",
            "85/85 [==============================] - 6s 75ms/step - loss: 0.0086 - accuracy: 0.9981 - val_loss: 1.1697 - val_accuracy: 0.7340\n"
          ]
        }
      ]
    },
    {
      "cell_type": "code",
      "source": [
        "import numpy as np\n",
        "from sklearn.metrics import accuracy_score, precision_score, recall_score, f1_score, confusion_matrix\n",
        "\n",
        "X_train, X_test, y_train, y_test = train_test_split(padded_sequences, df_labels['sentiment'], test_size=0.2, random_state=42)\n",
        "\n",
        "# Get predictions on test set\n",
        "y_pred_probs = model.predict(X_test)\n",
        "y_pred_binary = np.round(y_pred_probs).astype(int)\n",
        "\n",
        "# Get classification metrics\n",
        "accuracy = accuracy_score(y_test, y_pred_binary)\n",
        "precision = precision_score(y_test, y_pred_binary)\n",
        "recall = recall_score(y_test, y_pred_binary)\n",
        "f1 = f1_score(y_test, y_pred_binary)\n",
        "\n",
        "# confusion matrix \n",
        "confusion = confusion_matrix(y_test, y_pred_binary)\n",
        "\n",
        "# Get classification metrics\n",
        "report = classification_report(y_test, y_pred_binary)\n",
        "confusion = confusion_matrix(y_test, y_pred_binary)\n",
        "\n",
        "print('Accuracy:', accuracy)\n",
        "print('Precision:', precision)\n",
        "print('Recall:', recall)\n",
        "print('F1-score:', f1)\n",
        "print('Classification report:\\n', report)\n",
        "print('Confusion matrix:\\n', confusion)"
      ],
      "metadata": {
        "colab": {
          "base_uri": "https://localhost:8080/"
        },
        "id": "uDfc5qvekT2P",
        "outputId": "af4cfa64-c198-4dc1-f1ff-6863e4294add"
      },
      "execution_count": 48,
      "outputs": [
        {
          "output_type": "stream",
          "name": "stdout",
          "text": [
            "22/22 [==============================] - 1s 16ms/step\n",
            "Accuracy: 0.9494799405646359\n",
            "Precision: 0.9315068493150684\n",
            "Recall: 0.9147982062780269\n",
            "F1-score: 0.923076923076923\n",
            "Classification report:\n",
            "               precision    recall  f1-score   support\n",
            "\n",
            "           0       0.96      0.97      0.96       450\n",
            "           1       0.93      0.91      0.92       223\n",
            "\n",
            "    accuracy                           0.95       673\n",
            "   macro avg       0.94      0.94      0.94       673\n",
            "weighted avg       0.95      0.95      0.95       673\n",
            "\n",
            "Confusion matrix:\n",
            " [[435  15]\n",
            " [ 19 204]]\n"
          ]
        }
      ]
    },
    {
      "cell_type": "code",
      "source": [
        "import seaborn as sns\n",
        "import matplotlib.pyplot as plt\n",
        "\n",
        "# Plot confusion matrix\n",
        "sns.heatmap(confusion, annot=True, cmap='Blues')\n",
        "plt.title('Confusion Matrix')\n",
        "plt.xlabel('Predicted')\n",
        "plt.ylabel('Actual')\n",
        "plt.show()\n"
      ],
      "metadata": {
        "colab": {
          "base_uri": "https://localhost:8080/",
          "height": 472
        },
        "id": "ErcbK7w-kowG",
        "outputId": "6ccf2e9a-79ed-499d-b1e5-6f2bb2073d02"
      },
      "execution_count": 49,
      "outputs": [
        {
          "output_type": "display_data",
          "data": {
            "text/plain": [
              "<Figure size 640x480 with 2 Axes>"
            ],
            "image/png": "[encoded data removed]"
          },
          "metadata": {}
        }
      ]
    },
    {
      "cell_type": "code",
      "source": [
        "# Example sentences of UB\n",
        "sentences = [\n",
        "    \"UB ranks among top 30 well-developed public universities in the nation, according to U.S. News & World Report.\",\n",
        "    \"I've had a terrible experience with the weather at Buffalo.\",\n",
        "    \"The courses at UB were engaging and a few courses were really hard for me to study.\",\n",
        "    \"UB researchers were amazing in discovering new class of materials for next-generation energy storage.\",\n",
        "    \"UB's campus is beautiful but it's hard to find a quiet place to study.\",\n",
        "    \"The first phase of comprehensive wellness initiative launched by UB was fantastic!\",\n",
        "    \"I've had multiple negative experiences with UB's health services.\",\n",
        "    \"UB School of Law's Trial Advocacy Program named among best in nation.\",\n",
        "    \"UB chemist receives prestigious award for his work on energy conversion and storage.\",\n",
        "    \"UB's administration is slow to respond to student concerns and complaints.\"\n",
        "]\n",
        "\n",
        "# Tokenize and pad sequences for the sample sentences\n",
        "sequences = tokenizer.texts_to_sequences(sentences)\n",
        "padded_sequences = pad_sequences(sequences, maxlen=max_length, padding='post')\n",
        "\n",
        "# Make predictions\n",
        "predictions = model.predict(padded_sequences)\n",
        "\n",
        "# Convert probabilities to binary predictions\n",
        "binary_predictions = (predictions > 0.5).astype(int)\n",
        "\n",
        "# Print results\n",
        "for i in range(len(sentences)):\n",
        "    print(\"Sentence:\", sentences[i])\n",
        "    print(\"Sentiment:\", \"Positive\" if binary_predictions[i] == 1 else \"Negative\")\n",
        "    print(\"Probability:\", predictions[i])\n",
        "    print(\"\\n\")\n"
      ],
      "metadata": {
        "colab": {
          "base_uri": "https://localhost:8080/"
        },
        "id": "VSukcAkSlVJl",
        "outputId": "5c653437-d596-4350-8800-8ef5d10fc5b4"
      },
      "execution_count": 35,
      "outputs": [
        {
          "output_type": "stream",
          "name": "stdout",
          "text": [
            "1/1 [==============================] - 0s 52ms/step\n",
            "Sentence: UB ranks among top 30 well-developed public universities in the nation, according to U.S. News & World Report.\n",
            "Sentiment: Positive\n",
            "Probability: [0.9969554]\n",
            "\n",
            "\n",
            "Sentence: I've had a terrible experience with the weather at Buffalo.\n",
            "Sentiment: Negative\n",
            "Probability: [0.32389382]\n",
            "\n",
            "\n",
            "Sentence: The courses at UB were engaging and a few courses were really hard for me to study.\n",
            "Sentiment: Positive\n",
            "Probability: [0.54298675]\n",
            "\n",
            "\n",
            "Sentence: UB researchers were amazing in discovering new class of materials for next-generation energy storage.\n",
            "Sentiment: Positive\n",
            "Probability: [0.9856182]\n",
            "\n",
            "\n",
            "Sentence: UB's campus is beautiful but it's hard to find a quiet place to study.\n",
            "Sentiment: Positive\n",
            "Probability: [0.97418296]\n",
            "\n",
            "\n",
            "Sentence: The first phase of comprehensive wellness initiative launched by UB was fantastic!\n",
            "Sentiment: Negative\n",
            "Probability: [0.00076006]\n",
            "\n",
            "\n",
            "Sentence: I've had multiple negative experiences with UB's health services.\n",
            "Sentiment: Negative\n",
            "Probability: [0.00070531]\n",
            "\n",
            "\n",
            "Sentence: UB School of Law's Trial Advocacy Program named among best in nation.\n",
            "Sentiment: Positive\n",
            "Probability: [0.9975104]\n",
            "\n",
            "\n",
            "Sentence: UB chemist receives prestigious award for his work on energy conversion and storage.\n",
            "Sentiment: Positive\n",
            "Probability: [0.997793]\n",
            "\n",
            "\n",
            "Sentence: UB's administration is slow to respond to student concerns and complaints.\n",
            "Sentiment: Negative\n",
            "Probability: [0.00099021]\n",
            "\n",
            "\n"
          ]
        }
      ]
    }
  ]
}